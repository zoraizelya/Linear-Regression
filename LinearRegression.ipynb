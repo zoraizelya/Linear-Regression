{
 "cells": [
  {
   "attachments": {},
   "cell_type": "markdown",
   "metadata": {},
   "source": [
    "##### Import Libraries"
   ]
  },
  {
   "cell_type": "code",
   "execution_count": 1,
   "metadata": {},
   "outputs": [],
   "source": [
    "import pandas as pd\n",
    "import numpy as np"
   ]
  },
  {
   "attachments": {},
   "cell_type": "markdown",
   "metadata": {},
   "source": [
    "##### Import Dataset\n",
    "  - Basically this dataset is a random one created in Python Language"
   ]
  },
  {
   "cell_type": "code",
   "execution_count": 2,
   "metadata": {},
   "outputs": [
    {
     "data": {
      "text/html": [
       "<div>\n",
       "<style scoped>\n",
       "    .dataframe tbody tr th:only-of-type {\n",
       "        vertical-align: middle;\n",
       "    }\n",
       "\n",
       "    .dataframe tbody tr th {\n",
       "        vertical-align: top;\n",
       "    }\n",
       "\n",
       "    .dataframe thead th {\n",
       "        text-align: right;\n",
       "    }\n",
       "</style>\n",
       "<table border=\"1\" class=\"dataframe\">\n",
       "  <thead>\n",
       "    <tr style=\"text-align: right;\">\n",
       "      <th></th>\n",
       "      <th>Gender</th>\n",
       "      <th>Age</th>\n",
       "      <th>Height</th>\n",
       "      <th>Weight</th>\n",
       "      <th>MachineLearning</th>\n",
       "      <th>AI</th>\n",
       "      <th>InfoSecurity</th>\n",
       "      <th>Stats</th>\n",
       "      <th>GPA</th>\n",
       "    </tr>\n",
       "  </thead>\n",
       "  <tbody>\n",
       "    <tr>\n",
       "      <th>0</th>\n",
       "      <td>Male</td>\n",
       "      <td>18</td>\n",
       "      <td>175</td>\n",
       "      <td>70</td>\n",
       "      <td>80</td>\n",
       "      <td>85</td>\n",
       "      <td>90</td>\n",
       "      <td>78</td>\n",
       "      <td>3.62</td>\n",
       "    </tr>\n",
       "    <tr>\n",
       "      <th>1</th>\n",
       "      <td>Male</td>\n",
       "      <td>19</td>\n",
       "      <td>165</td>\n",
       "      <td>55</td>\n",
       "      <td>89</td>\n",
       "      <td>93</td>\n",
       "      <td>87</td>\n",
       "      <td>75</td>\n",
       "      <td>3.95</td>\n",
       "    </tr>\n",
       "    <tr>\n",
       "      <th>2</th>\n",
       "      <td>Male</td>\n",
       "      <td>20</td>\n",
       "      <td>180</td>\n",
       "      <td>75</td>\n",
       "      <td>85</td>\n",
       "      <td>90</td>\n",
       "      <td>80</td>\n",
       "      <td>78</td>\n",
       "      <td>3.45</td>\n",
       "    </tr>\n",
       "    <tr>\n",
       "      <th>3</th>\n",
       "      <td>Female</td>\n",
       "      <td>21</td>\n",
       "      <td>170</td>\n",
       "      <td>60</td>\n",
       "      <td>92</td>\n",
       "      <td>93</td>\n",
       "      <td>84</td>\n",
       "      <td>77</td>\n",
       "      <td>3.85</td>\n",
       "    </tr>\n",
       "    <tr>\n",
       "      <th>4</th>\n",
       "      <td>Male</td>\n",
       "      <td>22</td>\n",
       "      <td>183</td>\n",
       "      <td>80</td>\n",
       "      <td>78</td>\n",
       "      <td>75</td>\n",
       "      <td>88</td>\n",
       "      <td>80</td>\n",
       "      <td>3.25</td>\n",
       "    </tr>\n",
       "  </tbody>\n",
       "</table>\n",
       "</div>"
      ],
      "text/plain": [
       "   Gender  Age  Height  Weight  MachineLearning  AI  InfoSecurity  Stats   GPA\n",
       "0    Male   18     175      70               80  85            90     78  3.62\n",
       "1    Male   19     165      55               89  93            87     75  3.95\n",
       "2    Male   20     180      75               85  90            80     78  3.45\n",
       "3  Female   21     170      60               92  93            84     77  3.85\n",
       "4    Male   22     183      80               78  75            88     80  3.25"
      ]
     },
     "execution_count": 2,
     "metadata": {},
     "output_type": "execute_result"
    }
   ],
   "source": [
    "data = pd.read_csv('dataset_std.csv')\n",
    "data.head()"
   ]
  },
  {
   "cell_type": "code",
   "execution_count": 3,
   "metadata": {},
   "outputs": [],
   "source": [
    "data.drop('Gender', axis=1, inplace=True)"
   ]
  },
  {
   "attachments": {},
   "cell_type": "markdown",
   "metadata": {},
   "source": [
    "##### Assigning values to X and y\n",
    "  - X is the independent variable and y is the dependent variable"
   ]
  },
  {
   "cell_type": "code",
   "execution_count": 28,
   "metadata": {},
   "outputs": [
    {
     "data": {
      "text/plain": [
       "0     3.62\n",
       "1     3.95\n",
       "2     3.45\n",
       "3     3.85\n",
       "4     3.25\n",
       "      ... \n",
       "95    3.45\n",
       "96    3.95\n",
       "97    3.50\n",
       "98    3.90\n",
       "99    3.30\n",
       "Name: GPA, Length: 100, dtype: float64"
      ]
     },
     "execution_count": 28,
     "metadata": {},
     "output_type": "execute_result"
    }
   ],
   "source": [
    "X = data['MachineLearning'] # independent variable\n",
    "y = data['GPA']# Target variable is GPA means we are predicting GPA\n",
    "y"
   ]
  },
  {
   "attachments": {},
   "cell_type": "markdown",
   "metadata": {},
   "source": [
    "##### Now we need to know about the mean values and the size as well"
   ]
  },
  {
   "cell_type": "code",
   "execution_count": 14,
   "metadata": {},
   "outputs": [],
   "source": [
    "mean_x = np.mean(X)\n",
    "mean_y = np.mean(y)\n",
    "size = len(X)"
   ]
  },
  {
   "attachments": {},
   "cell_type": "markdown",
   "metadata": {},
   "source": [
    "##### Here we are trying to implement the formula\n"
   ]
  },
  {
   "cell_type": "code",
   "execution_count": 15,
   "metadata": {},
   "outputs": [
    {
     "data": {
      "text/plain": [
       "1.363619142803247"
      ]
     },
     "execution_count": 15,
     "metadata": {},
     "output_type": "execute_result"
    }
   ],
   "source": [
    "numerator = 0\n",
    "denominator = 0\n",
    "for i in range(size):\n",
    "    numerator =numerator + (X[i] - mean_x)*(y[i] - mean_y)\n",
    "    denominator =denominator + (X[i]-mean_x) ** 2\n",
    "m = numerator/denominator\n",
    "c = mean_y - (m * mean_x)\n",
    "c"
   ]
  },
  {
   "cell_type": "code",
   "execution_count": 21,
   "metadata": {},
   "outputs": [
    {
     "name": "stdout",
     "output_type": "stream",
     "text": [
      "     MachineLearning\n",
      "0               70.0\n",
      "1               89.0\n",
      "2               90.0\n",
      "3               93.0\n",
      "4               75.0\n",
      "..               ...\n",
      "104             93.0\n",
      "105             80.0\n",
      "106             92.0\n",
      "107             87.0\n",
      "108             90.0\n",
      "\n",
      "[109 rows x 1 columns]\n"
     ]
    }
   ],
   "source": [
    "# we need to convert ML marks into float first, because the same dtype is important\n",
    "# Create a sample DataFrame with 100 rows of MachineLearning scores\n",
    "scores = [70, 89, 90, 93, 75, 89, 90, 85, 92, 87, 91, 83, 86, 88, 94, 79, 84, 88, 91, 90, \n",
    "          77, 86, 85, 89, 92, 88, 93, 82, 79, 84, 85, 90, 87, 91, 95, 89, 82, 84, 87, 90, \n",
    "          80, 91, 93, 87, 85, 89, 94, 80, 83, 88, 92, 85, 90, 93, 87, 84, 89, 91, 83, 86, \n",
    "          88, 94, 82, 83, 85, 90, 87, 89, 92, 85, 93, 82, 89, 90, 91, 80, 85, 93, 89, 92, \n",
    "          87, 90, 94, 83, 82, 87, 91, 93, 80, 85, 88, 92, 84, 89, 90, 87, 86, 93, 91, 82, \n",
    "          88, 94, 89, 85, 93, 80, 92, 87, 90]\n",
    "df = pd.DataFrame({'MachineLearning': scores})\n",
    "\n",
    "# Convert the MachineLearning column to float using astype()\n",
    "df['MachineLearning'] = df['MachineLearning'].astype(float)\n",
    "\n",
    "# Print the new DataFrame\n",
    "print(df)"
   ]
  },
  {
   "attachments": {},
   "cell_type": "markdown",
   "metadata": {},
   "source": [
    "##### As we are predicting \n",
    "- y = mx + c"
   ]
  },
  {
   "cell_type": "code",
   "execution_count": 30,
   "metadata": {},
   "outputs": [
    {
     "data": {
      "text/plain": [
       "(100,)"
      ]
     },
     "execution_count": 30,
     "metadata": {},
     "output_type": "execute_result"
    }
   ],
   "source": [
    "max_x = np.max(X) + 100\n",
    "min_x = np.min(X) - 100\n",
    "\n",
    "x = np.linspace(min_x, max_x, 100)\n",
    "y =  m*x + c\n",
    "y.shape\n"
   ]
  },
  {
   "attachments": {},
   "cell_type": "markdown",
   "metadata": {},
   "source": [
    "##### Now lets see by ploting it "
   ]
  },
  {
   "cell_type": "code",
   "execution_count": 35,
   "metadata": {},
   "outputs": [
    {
     "data": {
      "text/plain": [
       "<function matplotlib.pyplot.show(close=None, block=None)>"
      ]
     },
     "execution_count": 35,
     "metadata": {},
     "output_type": "execute_result"
    },
    {
     "data": {
      "image/png": "[encoded data removed]",
      "text/plain": [
       "<Figure size 432x288 with 1 Axes>"
      ]
     },
     "metadata": {
      "needs_background": "light"
     },
     "output_type": "display_data"
    }
   ],
   "source": [
    "import matplotlib.pyplot as plt\n",
    "\n",
    "plt.plot(x, y, color='Blue', label='Regression Line')\n",
    "plt.scatter(X, y, c='#ef5423', label='Scatter Plot')\n",
    "\n",
    "plt.xlabel('MachineLearning')\n",
    "plt.ylabel('GPA')\n",
    "plt.title('LINEAR REGRESSION')\n",
    "plt.legend()\n",
    "plt.show"
   ]
  },
  {
   "attachments": {},
   "cell_type": "markdown",
   "metadata": {},
   "source": [
    "##### And in the end lets check the R^2 "
   ]
  },
  {
   "cell_type": "code",
   "execution_count": 34,
   "metadata": {},
   "outputs": [
    {
     "data": {
      "text/plain": [
       "0.00726816349148501"
      ]
     },
     "execution_count": 34,
     "metadata": {},
     "output_type": "execute_result"
    }
   ],
   "source": [
    "n = 0\n",
    "d = 0\n",
    "for i in range(size):\n",
    "    y_pred = m * X[i] + c\n",
    "    n += (y_pred-mean_y) **2\n",
    "    d += (y[i] - mean_y) **2\n",
    "r_square = n/d\n",
    "r_square\n"
   ]
  },
  {
   "cell_type": "code",
   "execution_count": null,
   "metadata": {},
   "outputs": [],
   "source": []
  }
 ],
 "metadata": {
  "kernelspec": {
   "display_name": "Python 3",
   "language": "python",
   "name": "python3"
  },
  "language_info": {
   "codemirror_mode": {
    "name": "ipython",
    "version": 3
   },
   "file_extension": ".py",
   "mimetype": "text/x-python",
   "name": "python",
   "nbconvert_exporter": "python",
   "pygments_lexer": "ipython3",
   "version": "3.10.4"
  },
  "orig_nbformat": 4,
  "vscode": {
   "interpreter": {
    "hash": "369f2c481f4da34e4445cda3fffd2e751bd1c4d706f27375911949ba6bb62e1c"
   }
  }
 },
 "nbformat": 4,
 "nbformat_minor": 2
}
